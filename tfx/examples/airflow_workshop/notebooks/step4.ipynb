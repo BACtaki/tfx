{
  "cells": [
    {
      "cell_type": "markdown",
      "metadata": {
        "id": "OhPZwnZysDj1"
      },
      "source": [
        "# Step 4: Feature Engineering\n",
        "\n",
        "Use the code below to run TensorFlow Transform on some example data using the schema from your pipeline. Start by importing and opening the metadata store."
      ]
    },
    {
      "cell_type": "code",
      "execution_count": null,
      "metadata": {
        "id": "J7qOUjNQsDj3"
      },
      "outputs": [],
      "source": [
        "from __future__ import print_function\n",
        "\n",
        "import os\n",
        "import tempfile\n",
        "import pandas as pd\n",
        "\n",
        "import tensorflow as tf\n",
        "import tensorflow_transform as tft\n",
        "from tensorflow_transform import beam as tft_beam\n",
        "import tfx_utils\n",
        "from tfx.utils import io_utils\n",
        "from tensorflow_metadata.proto.v0 import schema_pb2\n",
        "\n",
        "# For DatasetMetadata boilerplate\n",
        "from tensorflow_transform.tf_metadata import dataset_metadata\n",
        "from tensorflow_transform.tf_metadata import schema_utils\n",
        "\n",
        "def _make_default_sqlite_uri(pipeline_name):\n",
        "    return os.path.join(os.environ['HOME'], 'airflow/tfx/metadata', pipeline_name, 'metadata.db')\n",
        "\n",
        "def get_metadata_store(pipeline_name):\n",
        "    return tfx_utils.TFXReadonlyMetadataStore.from_sqlite_db(_make_default_sqlite_uri(pipeline_name))\n",
        "\n",
        "pipeline_name = 'taxi'\n",
        "\n",
        "pipeline_db_path = _make_default_sqlite_uri(pipeline_name)\n",
        "print('Pipeline DB:\\n{}'.format(pipeline_db_path))\n",
        "\n",
        "store = get_metadata_store(pipeline_name)"
      ]
    },
    {
      "cell_type": "markdown",
      "metadata": {
        "id": "BxJ-ZskysDj8"
      },
      "source": [
        "Get the schema URI from the metadata store"
      ]
    },
    {
      "cell_type": "code",
      "execution_count": null,
      "metadata": {
        "id": "wJMSREwysDj9"
      },
      "outputs": [],
      "source": [
        "# Get the schema URI from the metadata store\n",
        "schemas = store.get_artifacts_of_type_df(tfx_utils.TFXArtifactTypes.SCHEMA)\n",
        "assert len(schemas.URI) == 1\n",
        "schema_uri = schemas.URI.iloc[0] + '/schema.pbtxt'\n",
        "print ('Schema URI:\\n{}'.format(schema_uri))"
      ]
    },
    {
      "cell_type": "markdown",
      "metadata": {
        "id": "WFMYkkYDsDkB"
      },
      "source": [
        "Get the schema that was inferred by TensorFlow Data Validation"
      ]
    },
    {
      "cell_type": "code",
      "execution_count": null,
      "metadata": {
        "id": "tnHT03ECsDkC"
      },
      "outputs": [],
      "source": [
        "schema_proto = io_utils.parse_pbtxt_file(file_name=schema_uri, message=schema_pb2.Schema())\n",
        "feature_spec, domains = schema_utils.schema_as_feature_spec(schema_proto)\n",
        "legacy_metadata = dataset_metadata.DatasetMetadata(schema_utils.schema_from_feature_spec(feature_spec, domains))"
      ]
    },
    {
      "cell_type": "markdown",
      "metadata": {
        "id": "UYFknoQWsDkF"
      },
      "source": [
        "Define features and create functions for TensorFlow Transform"
      ]
    },
    {
      "cell_type": "code",
      "execution_count": null,
      "metadata": {
        "id": "G14AC2WusDkG"
      },
      "outputs": [],
      "source": [
        "# Categorical features are assumed to each have a maximum value in the dataset.\n",
        "_MAX_CATEGORICAL_FEATURE_VALUES = [24, 31, 12]\n",
        "\n",
        "_CATEGORICAL_FEATURE_KEYS = [\n",
        "    'trip_start_hour', 'trip_start_day', 'trip_start_month',\n",
        "    'pickup_census_tract', 'dropoff_census_tract', 'pickup_community_area',\n",
        "    'dropoff_community_area'\n",
        "]\n",
        "\n",
        "_DENSE_FLOAT_FEATURE_KEYS = ['trip_miles', 'fare', 'trip_seconds']\n",
        "\n",
        "# Number of buckets used by tf.transform for encoding each feature.\n",
        "_FEATURE_BUCKET_COUNT = 10\n",
        "\n",
        "_BUCKET_FEATURE_KEYS = [\n",
        "    'pickup_latitude', 'pickup_longitude', 'dropoff_latitude',\n",
        "    'dropoff_longitude'\n",
        "]\n",
        "\n",
        "# Number of vocabulary terms used for encoding VOCAB_FEATURES by tf.transform\n",
        "_VOCAB_SIZE = 1000\n",
        "\n",
        "# Count of out-of-vocab buckets in which unrecognized VOCAB_FEATURES are hashed.\n",
        "_OOV_SIZE = 10\n",
        "\n",
        "_VOCAB_FEATURE_KEYS = [\n",
        "    'payment_type',\n",
        "    'company',\n",
        "]\n",
        "\n",
        "# Keys\n",
        "_LABEL_KEY = 'tips'\n",
        "_FARE_KEY = 'fare'\n",
        "\n",
        "\n",
        "def _make_dense(x):\n",
        "  \"\"\"Converts to a dense tensor.\n",
        "\n",
        "  Args:\n",
        "    x: A `SparseTensor` of rank 2.  Its dense shape should have size at most 1\n",
        "      in the second dimension.\n",
        "  \n",
        "  Returns:\n",
        "    A rank 1 tensor.\n",
        "  \"\"\"\n",
        "  if not isinstance(x, tf.sparse.SparseTensor):\n",
        "    return x\n",
        "\n",
        "  return tf.squeeze(\n",
        "      tf.sparse.to_dense(\n",
        "          tf.SparseTensor(x.indices, x.values, [x.dense_shape[0], 1])),\n",
        "      axis=1)\n",
        "\n",
        "\n",
        "def preprocessing_fn(inputs):\n",
        "  \"\"\"tf.transform's callback function for preprocessing inputs.\n",
        "\n",
        "  Args:\n",
        "    inputs: map from feature keys to raw not-yet-transformed features.\n",
        "\n",
        "  Returns:\n",
        "    Map from string feature key to transformed feature operations.\n",
        "  \"\"\"\n",
        "  outputs = {}\n",
        "  for key in _DENSE_FLOAT_FEATURE_KEYS:\n",
        "    # Preserve this feature as a dense float, setting nan's to zero.\n",
        "    outputs[key] = tft.scale_to_z_score(_make_dense(inputs[key]))\n",
        "\n",
        "  for key in _VOCAB_FEATURE_KEYS:\n",
        "    # Build a vocabulary for this feature.\n",
        "    outputs[key] = tft.compute_and_apply_vocabulary(\n",
        "        inputs[key],\n",
        "        top_k=_VOCAB_SIZE,\n",
        "        num_oov_buckets=_OOV_SIZE)\n",
        "\n",
        "  for key in _BUCKET_FEATURE_KEYS:\n",
        "    outputs[key] = tft.bucketize(\n",
        "        inputs[key],\n",
        "        _FEATURE_BUCKET_COUNT)\n",
        "\n",
        "  for key in _CATEGORICAL_FEATURE_KEYS:\n",
        "    outputs[key] = inputs[key]\n",
        "\n",
        "  # Was this passenger a big tipper?\n",
        "  taxi_fare = outputs[_FARE_KEY]\n",
        "  tips = _make_dense(inputs[_LABEL_KEY])\n",
        "  # Test if the tip was \u003e 20% of the fare.\n",
        "  outputs[_LABEL_KEY] = tf.cast(\n",
        "      tf.greater(tips, tf.multiply(taxi_fare, tf.constant(0.2))), tf.int64)\n",
        "\n",
        "  return outputs"
      ]
    },
    {
      "cell_type": "markdown",
      "metadata": {
        "id": "Fj83WgYesDkJ"
      },
      "source": [
        "Display the results of transforming some example data"
      ]
    },
    {
      "cell_type": "code",
      "execution_count": null,
      "metadata": {
        "id": "Yq_PcIafsDkK"
      },
      "outputs": [],
      "source": [
        "from IPython.display import display\n",
        "with tft_beam.Context(temp_dir=tempfile.mkdtemp()):\n",
        "    raw_examples = [\n",
        "        {\n",
        "            \"fare\": [100.0],\n",
        "            \"trip_start_hour\": [12],\n",
        "            \"pickup_census_tract\": ['abcd'],\n",
        "            \"dropoff_census_tract\": [12345.0],  # No idea why this is a float\n",
        "            \"company\": ['taxi inc.'],\n",
        "            \"trip_start_timestamp\": [123456],\n",
        "            \"pickup_longitude\": [12.0],\n",
        "            \"trip_start_month\": [5],\n",
        "            \"trip_miles\": [8.0],\n",
        "            \"dropoff_longitude\": [12.05],\n",
        "            \"dropoff_community_area\": [123],\n",
        "            \"pickup_community_area\": [123],\n",
        "            \"payment_type\": ['visa'],\n",
        "            \"trip_seconds\": [600.0],\n",
        "            \"trip_start_day\": [12],\n",
        "            \"tips\": [10.0],\n",
        "            \"pickup_latitude\": [80.0],\n",
        "            \"dropoff_latitude\": [80.01],\n",
        "        }\n",
        "    ]\n",
        "    (transformed_examples, transformed_metadata), transform_fn = (\n",
        "        (raw_examples, legacy_metadata)\n",
        "        | 'AnalyzeAndTransform' \u003e\u003e tft_beam.AnalyzeAndTransformDataset(\n",
        "            preprocessing_fn))\n",
        "    display(pd.DataFrame(transformed_examples))"
      ]
    }
  ],
  "metadata": {
    "colab": {
      "collapsed_sections": [],
      "name": "step4.ipynb",
      "provenance": []
    },
    "kernelspec": {
      "display_name": "Python 3",
      "language": "python",
      "name": "python3"
    },
    "language_info": {
      "codemirror_mode": {
        "name": "ipython",
        "version": 3
      },
      "file_extension": ".py",
      "mimetype": "text/x-python",
      "name": "python",
      "nbconvert_exporter": "python",
      "pygments_lexer": "ipython3",
      "version": "3.7.5rc1"
    }
  },
  "nbformat": 4,
  "nbformat_minor": 0
}
